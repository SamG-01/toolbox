{
 "cells": [
  {
   "cell_type": "code",
   "execution_count": 10,
   "metadata": {},
   "outputs": [],
   "source": [
    "from toolbox.decorators import multipledispatch"
   ]
  },
  {
   "cell_type": "code",
   "execution_count": 11,
   "metadata": {},
   "outputs": [
    {
     "data": {
      "text/plain": [
       "(6, 9.0, 18.0)"
      ]
     },
     "execution_count": 11,
     "metadata": {},
     "output_type": "execute_result"
    }
   ],
   "source": [
    "@multipledispatch\n",
    "def f(x: int, y: int) -> int:\n",
    "    return x + y\n",
    "\n",
    "@f.register\n",
    "def f(x: float, y: float) -> float:\n",
    "    return x * y\n",
    "\n",
    "@f.register\n",
    "def f(x: int, y: int, z: float) -> float:\n",
    "    return z*(x + y)\n",
    "\n",
    "f(3, 3), f(3.0, 3.0), f(3, 3, 3.0)"
   ]
  },
  {
   "cell_type": "code",
   "execution_count": 12,
   "metadata": {},
   "outputs": [],
   "source": [
    "class Test:\n",
    "    x = 5\n",
    "    def __init__(self, y: int = 3) -> None:\n",
    "        self.y = y\n",
    "\n",
    "    @multipledispatch\n",
    "    def a(self, z: float) -> float:\n",
    "        return self.y + z\n",
    "\n",
    "    @a.register\n",
    "    @classmethod\n",
    "    def a(cls, z: int) -> int:\n",
    "        return cls.x + z\n",
    "\n",
    "    @a.register\n",
    "    @staticmethod\n",
    "    def a(z: str) -> str:\n",
    "        return z"
   ]
  },
  {
   "cell_type": "code",
   "execution_count": 13,
   "metadata": {},
   "outputs": [
    {
     "data": {
      "text/plain": [
       "(6.0, 8, '3')"
      ]
     },
     "execution_count": 13,
     "metadata": {},
     "output_type": "execute_result"
    }
   ],
   "source": [
    "T = Test()\n",
    "T.a(3.0), T.a(3), T.a(\"3\")"
   ]
  }
 ],
 "metadata": {
  "kernelspec": {
   "display_name": "Python 3",
   "language": "python",
   "name": "python3"
  },
  "language_info": {
   "codemirror_mode": {
    "name": "ipython",
    "version": 3
   },
   "file_extension": ".py",
   "mimetype": "text/x-python",
   "name": "python",
   "nbconvert_exporter": "python",
   "pygments_lexer": "ipython3",
   "version": "3.12.2"
  }
 },
 "nbformat": 4,
 "nbformat_minor": 2
}
