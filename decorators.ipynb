{
 "cells": [
  {
   "cell_type": "code",
   "execution_count": 8,
   "metadata": {},
   "outputs": [],
   "source": [
    "from toolbox.decorators import multipledispatch, typeguard"
   ]
  },
  {
   "cell_type": "code",
   "execution_count": 9,
   "metadata": {},
   "outputs": [
    {
     "name": "stdout",
     "output_type": "stream",
     "text": [
      "1.0 2 3.0 hi\n",
      "TypeError: Argument x has type <class 'int'> and not <class 'float'>\n"
     ]
    }
   ],
   "source": [
    "@typeguard(y=(int, float), z=float)\n",
    "def f(x: float, y: int, z, w) -> None:\n",
    "    print(x, y, z, w)\n",
    "\n",
    "f(1.0, 2, 3.0, \"hi\")\n",
    "\n",
    "try:\n",
    "    f(1, 2, 3.0, \"hi\")\n",
    "except TypeError as e:\n",
    "    print(\"TypeError:\", e)"
   ]
  },
  {
   "cell_type": "code",
   "execution_count": 10,
   "metadata": {},
   "outputs": [
    {
     "data": {
      "text/plain": [
       "(6, 9.0, 18.0)"
      ]
     },
     "execution_count": 10,
     "metadata": {},
     "output_type": "execute_result"
    }
   ],
   "source": [
    "@multipledispatch\n",
    "def g(x: int, y: int) -> int:\n",
    "    return x + y\n",
    "\n",
    "@g.register\n",
    "def g(x: float, y: float) -> float:\n",
    "    return x * y\n",
    "\n",
    "@g.register\n",
    "def f(x: int, y: int, z: float) -> float:\n",
    "    return z*(x + y)\n",
    "\n",
    "g(3, 3), g(3.0, 3.0), g(3, 3, 3.0)"
   ]
  },
  {
   "cell_type": "code",
   "execution_count": 11,
   "metadata": {},
   "outputs": [],
   "source": [
    "class Test:\n",
    "    x = 5\n",
    "    def __init__(self, y: int = 3) -> None:\n",
    "        self.y = y\n",
    "\n",
    "    @multipledispatch\n",
    "    def a(self, z: float) -> float:\n",
    "        return self.y + z\n",
    "\n",
    "    @a.register\n",
    "    @classmethod\n",
    "    def a(cls, z: int) -> int:\n",
    "        return cls.x + z\n",
    "\n",
    "    @a.register\n",
    "    @staticmethod\n",
    "    def a(z: str) -> str:\n",
    "        return z"
   ]
  },
  {
   "cell_type": "code",
   "execution_count": 12,
   "metadata": {},
   "outputs": [
    {
     "data": {
      "text/plain": [
       "(6.0, 8, '3')"
      ]
     },
     "execution_count": 12,
     "metadata": {},
     "output_type": "execute_result"
    }
   ],
   "source": [
    "T = Test()\n",
    "T.a(3.0), T.a(3), T.a(\"3\")"
   ]
  }
 ],
 "metadata": {
  "kernelspec": {
   "display_name": "Python 3",
   "language": "python",
   "name": "python3"
  },
  "language_info": {
   "codemirror_mode": {
    "name": "ipython",
    "version": 3
   },
   "file_extension": ".py",
   "mimetype": "text/x-python",
   "name": "python",
   "nbconvert_exporter": "python",
   "pygments_lexer": "ipython3",
   "version": "3.12.2"
  }
 },
 "nbformat": 4,
 "nbformat_minor": 2
}
